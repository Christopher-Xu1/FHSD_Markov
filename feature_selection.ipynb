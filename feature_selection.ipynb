{
 "cells": [
  {
   "cell_type": "code",
   "execution_count": 1,
   "metadata": {},
   "outputs": [
    {
     "name": "stdout",
     "output_type": "stream",
     "text": [
      "Gene: PRAMEF1 -> Ensembl ID: ENSG00000116721\n",
      "Gene: PRAMEF12 -> Ensembl ID: ENSG00000116726\n"
     ]
    },
    {
     "ename": "AttributeError",
     "evalue": "'list' object has no attribute 'get'",
     "output_type": "error",
     "traceback": [
      "\u001b[0;31m---------------------------------------------------------------------------\u001b[0m",
      "\u001b[0;31mAttributeError\u001b[0m                            Traceback (most recent call last)",
      "Cell \u001b[0;32mIn[1], line 17\u001b[0m\n\u001b[1;32m     15\u001b[0m \u001b[38;5;66;03m# Display the result of the conversion\u001b[39;00m\n\u001b[1;32m     16\u001b[0m \u001b[38;5;28;01mfor\u001b[39;00m info \u001b[38;5;129;01min\u001b[39;00m gene_info:\n\u001b[0;32m---> 17\u001b[0m     \u001b[38;5;28mprint\u001b[39m(\u001b[38;5;124mf\u001b[39m\u001b[38;5;124m\"\u001b[39m\u001b[38;5;124mGene: \u001b[39m\u001b[38;5;132;01m{\u001b[39;00minfo[\u001b[38;5;124m'\u001b[39m\u001b[38;5;124mquery\u001b[39m\u001b[38;5;124m'\u001b[39m]\u001b[38;5;132;01m}\u001b[39;00m\u001b[38;5;124m -> Ensembl ID: \u001b[39m\u001b[38;5;132;01m{\u001b[39;00m\u001b[43minfo\u001b[49m\u001b[38;5;241;43m.\u001b[39;49m\u001b[43mget\u001b[49m\u001b[43m(\u001b[49m\u001b[38;5;124;43m'\u001b[39;49m\u001b[38;5;124;43mensembl\u001b[39;49m\u001b[38;5;124;43m'\u001b[39;49m\u001b[43m,\u001b[49m\u001b[38;5;250;43m \u001b[39;49m\u001b[43m{\u001b[49m\u001b[43m}\u001b[49m\u001b[43m)\u001b[49m\u001b[38;5;241;43m.\u001b[39;49m\u001b[43mget\u001b[49m(\u001b[38;5;124m'\u001b[39m\u001b[38;5;124mgene\u001b[39m\u001b[38;5;124m'\u001b[39m,\u001b[38;5;250m \u001b[39m\u001b[38;5;124m'\u001b[39m\u001b[38;5;124mNot found\u001b[39m\u001b[38;5;124m'\u001b[39m)\u001b[38;5;132;01m}\u001b[39;00m\u001b[38;5;124m\"\u001b[39m)\n\u001b[1;32m     20\u001b[0m \u001b[38;5;28;01mdef\u001b[39;00m \u001b[38;5;21mvariance_thresholding\u001b[39m(gene_matrix, threshold\u001b[38;5;241m=\u001b[39m\u001b[38;5;241m0.5\u001b[39m):\n\u001b[1;32m     21\u001b[0m \u001b[38;5;250m    \u001b[39m\u001b[38;5;124;03m\"\"\"Select genes with variance above the given threshold.\"\"\"\u001b[39;00m\n",
      "\u001b[0;31mAttributeError\u001b[0m: 'list' object has no attribute 'get'"
     ]
    }
   ],
   "source": [
    "import numpy as np\n",
    "import pandas as pd\n",
    "from sklearn.preprocessing import StandardScaler\n",
    "import mygene\n",
    "\n",
    "# Initialize mygene object for querying\n",
    "mg = mygene.MyGeneInfo()\n",
    "\n",
    "# List of DUX4 target genes\n",
    "dux4_target_genes = [\"PRAMEF1\", \"PRAMEF12\", \"PRAMEF2\", \"RFPL1\", \"RFPL2\", \"RFPL4B\", \"TRIM43\", \"ZSCAN4\"]\n",
    "\n",
    "# Query mygene.info to convert gene names to Ensembl IDs\n",
    "gene_info = mg.querymany(dux4_target_genes, scopes='symbol', fields='ensembl.gene', species='human')\n",
    "\n",
    "# Display the result of the conversion\n",
    "for info in gene_info:\n",
    "    print(f\"Gene: {info['query']} -> Ensembl ID: {info.get('ensembl', {}).get('gene', 'Not found')}\")\n",
    "\n",
    "\n",
    "def variance_thresholding(gene_matrix, threshold=0.5):\n",
    "    \"\"\"Select genes with variance above the given threshold.\"\"\"\n",
    "    variances = gene_matrix.var(axis=0)\n",
    "    selected_genes = variances[variances > threshold].index\n",
    "    return gene_matrix[selected_genes]\n",
    "\n",
    "def highly_variable_genes(gene_matrix, n_genes=2000):\n",
    "    \"\"\"Select top N highly variable genes.\"\"\"\n",
    "    mean_expression = gene_matrix.mean(axis=0)\n",
    "    variances = gene_matrix.var(axis=0)\n",
    "    normalized_variances = variances / mean_expression\n",
    "    top_genes = normalized_variances.nlargest(n_genes).index\n",
    "    return gene_matrix[top_genes]\n",
    "\n",
    "def select_biologically_relevant_genes(gene_matrix, relevant_genes):\n",
    "    \"\"\"Select biologically relevant genes.\"\"\"\n",
    "    return gene_matrix[relevant_genes]\n",
    "\n",
    "# Load gene matrix\n",
    "gene_matrix = pd.read_csv('path_to_gene_matrix.csv', index_col=0)\n",
    "\n",
    "# Standardize the data (optional but recommended)\n",
    "scaler = StandardScaler()\n",
    "gene_matrix_scaled = pd.DataFrame(scaler.fit_transform(gene_matrix), index=gene_matrix.index, columns=gene_matrix.columns)\n",
    "\n",
    "# Apply feature selection method(s)\n",
    "selected_genes = variance_thresholding(gene_matrix_scaled, threshold=1.0)\n",
    "# Or use highly_variable_genes method\n",
    "# selected_genes = highly_variable_genes(gene_matrix_scaled, n_genes=2000)\n",
    "# Or use biologically relevant genes method\n",
    "# relevant_genes = ['Gene1', 'Gene2', 'Gene3', ...]  # Add your relevant genes\n",
    "# selected_genes = select_biologically_relevant_genes(gene_matrix_scaled, relevant_genes)\n",
    "\n",
    "# Save selected genes to a new file\n",
    "selected_genes.to_csv('selected_genes.csv')\n"
   ]
  }
 ],
 "metadata": {
  "kernelspec": {
   "display_name": "Python 3",
   "language": "python",
   "name": "python3"
  },
  "language_info": {
   "codemirror_mode": {
    "name": "ipython",
    "version": 3
   },
   "file_extension": ".py",
   "mimetype": "text/x-python",
   "name": "python",
   "nbconvert_exporter": "python",
   "pygments_lexer": "ipython3",
   "version": "3.12.4"
  }
 },
 "nbformat": 4,
 "nbformat_minor": 2
}
